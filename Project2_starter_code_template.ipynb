{
 "cells": [
  {
   "cell_type": "code",
   "execution_count": 1,
   "id": "73bf6dca",
   "metadata": {
    "pycharm": {
     "name": "#%%\n"
    }
   },
   "outputs": [],
   "source": [
    "# import all libraries you need here\n",
    "import os\n",
    "import zipfile\n",
    "\n",
    "import pandas as pd\n",
    "import numpy as np"
   ]
  },
  {
   "cell_type": "markdown",
   "id": "20e76b52",
   "metadata": {
    "pycharm": {
     "name": "#%% md\n"
    }
   },
   "source": [
    "# Step 0: Download the training data"
   ]
  },
  {
   "cell_type": "code",
   "execution_count": 2,
   "id": "4dc0e1f6",
   "metadata": {
    "pycharm": {
     "name": "#%%\n"
    }
   },
   "outputs": [],
   "source": [
    "path_data = \"./data/\""
   ]
  },
  {
   "cell_type": "code",
   "execution_count": 3,
   "id": "428ce22e",
   "metadata": {
    "pycharm": {
     "name": "#%%\n"
    }
   },
   "outputs": [],
   "source": [
    "bulk_pancreas = pd.read_csv(os.path.join(path_data,\"train_data\",\"pancreas_bulk_train.csv\")).set_index(\"level_0\")"
   ]
  },
  {
   "cell_type": "code",
   "execution_count": 4,
   "id": "9bd6c906",
   "metadata": {
    "pycharm": {
     "name": "#%%\n"
    }
   },
   "outputs": [
    {
     "name": "stdout",
     "output_type": "stream",
     "text": [
      "Number of patients in the train dataset 4\n",
      "Number of genes in the dataset 25453\n"
     ]
    }
   ],
   "source": [
    "print(f\"Number of patients in the train dataset {bulk_pancreas.shape[1]}\")\n",
    "print(f\"Number of genes in the dataset {bulk_pancreas.shape[0]}\")"
   ]
  },
  {
   "cell_type": "code",
   "execution_count": 5,
   "id": "1306a4e9",
   "metadata": {
    "pycharm": {
     "name": "#%%\n"
    }
   },
   "outputs": [],
   "source": [
    "sc_pancreas = pd.read_csv(os.path.join(path_data,\"train_data\",\"pancreas_sc_train.csv\")).set_index(\"Unnamed: 0\")"
   ]
  },
  {
   "cell_type": "code",
   "execution_count": 6,
   "id": "d93b17fc",
   "metadata": {
    "pycharm": {
     "name": "#%%\n"
    }
   },
   "outputs": [
    {
     "name": "stdout",
     "output_type": "stream",
     "text": [
      "Number of cells in the train dataset 978\n"
     ]
    }
   ],
   "source": [
    "assert bulk_pancreas.shape[0] == sc_pancreas.shape[0]\n",
    "print(f\"Number of cells in the train dataset {sc_pancreas.shape[1]}\")"
   ]
  },
  {
   "cell_type": "code",
   "execution_count": 7,
   "id": "6e35ed87",
   "metadata": {
    "pycharm": {
     "name": "#%%\n"
    }
   },
   "outputs": [],
   "source": [
    "sc_pancreas_test = pd.read_csv(os.path.join(path_data,\"test_data\",\"pancreas_sc_test.csv\")).set_index(\"Unnamed: 0\")"
   ]
  },
  {
   "cell_type": "code",
   "execution_count": 8,
   "id": "6c382b33",
   "metadata": {
    "pycharm": {
     "name": "#%%\n"
    }
   },
   "outputs": [
    {
     "name": "stdout",
     "output_type": "stream",
     "text": [
      "Number of cells in the test dataset 789\n"
     ]
    }
   ],
   "source": [
    "print(f\"Number of cells in the test dataset {sc_pancreas_test.shape[1]}\")"
   ]
  },
  {
   "cell_type": "code",
   "execution_count": 9,
   "id": "bb28b9f1",
   "metadata": {
    "pycharm": {
     "name": "#%%\n"
    }
   },
   "outputs": [],
   "source": [
    "sc_pancreas_metadata = pd.read_csv(os.path.join(path_data,\"train_data\",\"pancreas_sc_metadata_train.csv\")).set_index(\"Source Name\")"
   ]
  },
  {
   "cell_type": "code",
   "execution_count": 10,
   "id": "bde772cf",
   "metadata": {
    "pycharm": {
     "name": "#%%\n"
    }
   },
   "outputs": [
    {
     "name": "stdout",
     "output_type": "stream",
     "text": [
      "Number of cells for patient1 is 249\n",
      "Number of cells for patient3 is 219\n",
      "Number of cells for patient2 is 234\n",
      "Number of cells for patient4 is 276\n"
     ]
    }
   ],
   "source": [
    "for patient in sc_pancreas_metadata.Sample.unique():\n",
    "    print(f\"Number of cells for {patient} is {sc_pancreas_metadata[sc_pancreas_metadata.Sample==patient].shape[0]}\")"
   ]
  },
  {
   "cell_type": "code",
   "execution_count": 11,
   "id": "e2027c27",
   "metadata": {
    "pycharm": {
     "name": "#%%\n"
    }
   },
   "outputs": [
    {
     "name": "stdout",
     "output_type": "stream",
     "text": [
      "There are 2 train patients with type II diabetes mellitus\n",
      "There are 2 train patients with normal\n"
     ]
    }
   ],
   "source": [
    "for dis in sc_pancreas_metadata.Disease.unique():\n",
    "    df = sc_pancreas_metadata[sc_pancreas_metadata.Disease==dis]\n",
    "    print(f\"There are {df.Sample.nunique()} train patients with {dis}\")"
   ]
  },
  {
   "cell_type": "code",
   "execution_count": 12,
   "id": "806c6c0a",
   "metadata": {
    "pycharm": {
     "name": "#%%\n"
    }
   },
   "outputs": [
    {
     "name": "stdout",
     "output_type": "stream",
     "text": [
      "There are 11 different cell types in the dataset\n",
      "The different cells types are ['delta cell' 'alpha cell' 'beta cell' 'PSC cell' 'endothelial cell'\n",
      " 'gamma cell' 'co-expression cell' 'ductal cell' 'epsilon cell'\n",
      " 'unclassified endocrine cell' 'acinar cell']\n"
     ]
    }
   ],
   "source": [
    "print(f\"There are {df.Celltype.nunique()} different cell types in the dataset\")\n",
    "print(f\"The different cells types are {df.Celltype.unique()}\")"
   ]
  },
  {
   "cell_type": "code",
   "execution_count": 13,
   "id": "aad9fa2f",
   "metadata": {
    "pycharm": {
     "name": "#%%\n"
    }
   },
   "outputs": [],
   "source": [
    "sc_pancreas_metadata_test = pd.read_csv(os.path.join(path_data,\"test_data\",\"pancreas_sc_metadata_test_wocelltype.csv\")).set_index(\"Source Name\")"
   ]
  },
  {
   "cell_type": "code",
   "execution_count": 14,
   "id": "2ee0bc2b",
   "metadata": {
    "pycharm": {
     "name": "#%%\n"
    }
   },
   "outputs": [
    {
     "name": "stdout",
     "output_type": "stream",
     "text": [
      "Number of cells for patient5 is 203\n",
      "Number of cells for patient7 is 284\n",
      "Number of cells for patient6 is 302\n"
     ]
    }
   ],
   "source": [
    "for patient in sc_pancreas_metadata_test.Sample.unique():\n",
    "    print(f\"Number of cells for {patient} is {sc_pancreas_metadata_test[sc_pancreas_metadata_test.Sample==patient].shape[0]}\")"
   ]
  },
  {
   "cell_type": "code",
   "execution_count": 15,
   "id": "ffd5982d",
   "metadata": {
    "pycharm": {
     "name": "#%%\n"
    }
   },
   "outputs": [
    {
     "name": "stdout",
     "output_type": "stream",
     "text": [
      "There are 1 test patients with normal\n",
      "There are 2 test patients with type II diabetes mellitus\n"
     ]
    }
   ],
   "source": [
    "for dis in sc_pancreas_metadata_test.Disease.unique():\n",
    "    df = sc_pancreas_metadata_test[sc_pancreas_metadata_test.Disease==dis]\n",
    "    print(f\"There are {df.Sample.nunique()} test patients with {dis}\")"
   ]
  },
  {
   "cell_type": "markdown",
   "source": [
    "__What do we have now?__\n",
    "\n",
    "- bulk_pancreas: pd dataframe, train data. Bulk expression counts.\n",
    "- sc_pancreas: pd dataframe, train data. Single-cell expression counts.\n",
    "- sc_pancreas_test: pd dataframe, test data. Single-cell expression counts.\n",
    "- sc_pancreas_metadata: pd dataframe, train data.\n",
    "- sc_pancreas_metadata_test: pd dataframe, test data.\n",
    "    - sc_pancreas_metadata.Disease: either 'type II diabetes mellitus' or 'normal'\n",
    "    - sc_pancreas_metadata.Celltype: string of the cell type."
   ],
   "metadata": {
    "collapsed": false,
    "pycharm": {
     "name": "#%% md\n"
    }
   }
  },
  {
   "cell_type": "markdown",
   "id": "9d634db5",
   "metadata": {
    "pycharm": {
     "name": "#%% md\n"
    }
   },
   "source": [
    "# Step 1: Perform the imputation"
   ]
  },
  {
   "cell_type": "code",
   "execution_count": null,
   "outputs": [],
   "source": [
    "# Imputation\n",
    "# TODO"
   ],
   "metadata": {
    "collapsed": false,
    "pycharm": {
     "name": "#%%\n"
    }
   }
  },
  {
   "cell_type": "markdown",
   "id": "131d64a6",
   "metadata": {
    "pycharm": {
     "name": "#%% md\n"
    }
   },
   "source": [
    "# Step 2: Perform clustering\n"
   ]
  },
  {
   "cell_type": "code",
   "execution_count": null,
   "outputs": [],
   "source": [
    "import numpy as np\n",
    "from sklearn.decomposition import PCA\n",
    "from sklearn.cluster import AgglomerativeClustering\n",
    "from sklearn import metrics\n"
   ],
   "metadata": {
    "collapsed": false,
    "pycharm": {
     "name": "#%%\n"
    }
   }
  },
  {
   "cell_type": "code",
   "execution_count": null,
   "outputs": [],
   "source": [
    "# Batch Correction? Imputation? Feature Selection?\n",
    "# TODO\n",
    "X = None\n",
    "\n",
    "# Feature Selection\n",
    "# https://github.com/ScialdoneLab/CIARA_python --> Cluster Independent Algorithm for the identification of Rare cell types\n",
    "# https://triku.readthedocs.io/en/latest/ -->\n",
    "\n",
    "\n",
    "# Other preprocessing?\n",
    "# Normalization\n",
    "# log-transform\n",
    "\n",
    "# Dimension Reduction\n",
    "pca = PCA(n_components=20)\n",
    "X_dimred = pca.fit_transform(X)\n",
    "\n",
    "# Gini-Clustering, hierarchical Clustering?\n",
    "# Clustering: ------------------\n",
    "clusterings = []\n",
    "scores = []\n",
    "for k in range(2, 10):\n",
    "    print(f'Experimental k: {k}')\n",
    "    #cluster = AgglomerativeClustering(n_clusters=k, distance_threshold=None, affinity='euclidean', linkage='ward', compute_distances=True)\n",
    "    cluster = AgglomerativeClustering(n_clusters=k, distance_threshold=None, affinity='euclidean', linkage='average', compute_distances=True)\n",
    "    cluster.fit_predict(X_dimred)\n",
    "    clusterings.append(cluster)\n",
    "    #scores.append(abs(get_silhouette_score(X_new, cluster.labels_)))\n",
    "    # scores.append(abs(get_silhouette_score(u, cluster.labels_)))\n",
    "    scores.append(metrics.davies_bouldin_score(X_dimred, cluster.labels_))\n"
   ],
   "metadata": {
    "collapsed": false,
    "pycharm": {
     "name": "#%%\n"
    }
   }
  },
  {
   "cell_type": "markdown",
   "id": "652a8830",
   "metadata": {
    "pycharm": {
     "name": "#%% md\n"
    }
   },
   "source": [
    "# Step 3: Predict on the test data"
   ]
  },
  {
   "cell_type": "code",
   "execution_count": null,
   "outputs": [],
   "source": [
    "# Goals:\n",
    "#   (1) Impute and transform to pseudo-bulk\n",
    "#   (2) Clustering performance on the scRNA-seq data."
   ],
   "metadata": {
    "collapsed": false,
    "pycharm": {
     "name": "#%%\n"
    }
   }
  },
  {
   "cell_type": "markdown",
   "id": "d2cc8182",
   "metadata": {
    "pycharm": {
     "name": "#%% md\n"
    }
   },
   "source": [
    "# Step 4: Save the required files"
   ]
  },
  {
   "cell_type": "code",
   "execution_count": null,
   "id": "2da285de",
   "metadata": {
    "pycharm": {
     "name": "#%%\n"
    }
   },
   "outputs": [],
   "source": [
    "# bulkified should be a DataFrame containing the \"bulkified\" version of the imputed data\n",
    "# bulkified.columns = [\"patient5\",\"patient6\",\"patient7\"]\n",
    "# bulkified.index = sc_pancreas_test.index"
   ]
  },
  {
   "cell_type": "code",
   "execution_count": null,
   "id": "8bae7975",
   "metadata": {
    "pycharm": {
     "name": "#%%\n"
    }
   },
   "outputs": [],
   "source": [
    "results_path = \"path/to/your/results\"\n",
    "archive_name = \"LastName_FirstName_Project2.zip\" # TODO"
   ]
  },
  {
   "cell_type": "code",
   "execution_count": null,
   "id": "0dfefc0e",
   "metadata": {
    "pycharm": {
     "name": "#%%\n"
    }
   },
   "outputs": [],
   "source": [
    "assert all(bulkified.columns == [\"index\",\"patient5\",\"patient6\",\"patient7\"])"
   ]
  },
  {
   "cell_type": "code",
   "execution_count": null,
   "id": "73543251",
   "metadata": {
    "pycharm": {
     "name": "#%%\n"
    }
   },
   "outputs": [],
   "source": [
    "assert all(bulkified[\"index\"] == sc_pancreas_test.index)"
   ]
  },
  {
   "cell_type": "code",
   "execution_count": null,
   "id": "eec6fdbe",
   "metadata": {
    "pycharm": {
     "name": "#%%\n"
    }
   },
   "outputs": [],
   "source": [
    "# cluster_labels should be a DataFrame containing the cluster labels for each cell\n",
    "# cluster_labels.columns = [\"index\", \"cluster\"]\n",
    "# cluster_labels[\"index\"] = sc_pancreas_test.columns"
   ]
  },
  {
   "cell_type": "code",
   "execution_count": null,
   "id": "b579f622",
   "metadata": {
    "pycharm": {
     "name": "#%%\n"
    }
   },
   "outputs": [],
   "source": [
    "assert all(cluster_labels.columns == [\"index\",\"cluster\"])"
   ]
  },
  {
   "cell_type": "code",
   "execution_count": null,
   "id": "8c4dd353",
   "metadata": {
    "pycharm": {
     "name": "#%%\n"
    }
   },
   "outputs": [],
   "source": [
    "assert all(cluster_labels[\"index\"] == sc_pancreas_test.columns)"
   ]
  },
  {
   "cell_type": "code",
   "execution_count": null,
   "id": "74b55afd",
   "metadata": {
    "pycharm": {
     "name": "#%%\n"
    }
   },
   "outputs": [],
   "source": [
    "# PCA should be a DataFrame containing the coordinates of each cell in the PCA transformed space for the 50 first PCs\n",
    "# PCA.columns = [\"index\", \"PC1\", \"PC2\", ..., \"PC50\"]\n",
    "# PCA[\"index\"] = sc_pancreas_test.columns"
   ]
  },
  {
   "cell_type": "code",
   "execution_count": null,
   "id": "83835eae",
   "metadata": {
    "pycharm": {
     "name": "#%%\n"
    }
   },
   "outputs": [],
   "source": [
    "assert all(PCA.columns == [\"index\"] + [\"PC\"+str(i+1) for i in range(50)])"
   ]
  },
  {
   "cell_type": "code",
   "execution_count": null,
   "id": "fb99b243",
   "metadata": {
    "pycharm": {
     "name": "#%%\n"
    }
   },
   "outputs": [],
   "source": [
    "assert all(PCA[\"index\"] == sc_pancreas_test.columns)"
   ]
  },
  {
   "cell_type": "code",
   "execution_count": null,
   "id": "f4a7b8fc",
   "metadata": {
    "pycharm": {
     "name": "#%%\n"
    }
   },
   "outputs": [],
   "source": [
    "with zipfile.ZipFile(os.path.join(results_path, archive_name), \"x\") as zf:\n",
    "    with zf.open(f\"imputed_bulkified.csv\", \"w\") as buffer:\n",
    "        bulkified.to_csv(buffer)\n",
    "    with zf.open(f\"cluster_membership.csv\", \"w\") as buffer:\n",
    "        cluster_labels.to_csv(buffer)\n",
    "    with zf.open(f\"PCA.csv\", \"w\") as buffer:\n",
    "        PCA.to_csv(buffer)\n",
    "    zf.close()"
   ]
  },
  {
   "cell_type": "code",
   "execution_count": null,
   "id": "99ab0880",
   "metadata": {
    "pycharm": {
     "name": "#%%\n"
    }
   },
   "outputs": [],
   "source": [
    "archive = zipfile.ZipFile(os.path.join(results_path, archive_name))\n",
    "assert all(\n",
    "        [\n",
    "            i in archive.namelist()\n",
    "            for i in [\n",
    "                \"imputed_bulkified.csv\",\n",
    "                \"cluster_membership.csv\",\n",
    "                \"PCA.csv\",\n",
    "            ]\n",
    "        ]\n",
    "    )"
   ]
  }
 ],
 "metadata": {
  "kernelspec": {
   "display_name": "Python 3 (ipykernel)",
   "language": "python",
   "name": "python3"
  },
  "language_info": {
   "codemirror_mode": {
    "name": "ipython",
    "version": 3
   },
   "file_extension": ".py",
   "mimetype": "text/x-python",
   "name": "python",
   "nbconvert_exporter": "python",
   "pygments_lexer": "ipython3",
   "version": "3.9.9"
  }
 },
 "nbformat": 4,
 "nbformat_minor": 5
}